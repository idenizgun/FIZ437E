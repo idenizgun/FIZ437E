{
 "cells": [
  {
   "cell_type": "code",
   "execution_count": 1,
   "id": "d306bd2e",
   "metadata": {},
   "outputs": [],
   "source": [
    "import torch\n",
    "import torch.nn as nn\n",
    "import torchvision.datasets as dsets\n",
    "import torchvision.transforms as transforms\n",
    "from torch.autograd import Variable\n",
    "import numpy as np\n",
    "import seaborn as sns\n",
    "import pandas as pd\n",
    "import matplotlib.pyplot as plt\n",
    "import torch.nn.functional as F"
   ]
  },
  {
   "cell_type": "code",
   "execution_count": 4,
   "id": "5ae7c451",
   "metadata": {},
   "outputs": [],
   "source": [
    "input_size = 784\n",
    "num_classes = 10\n",
    "num_epochs = 3\n",
    "batch_size = 100\n",
    "learning_rate = 0.001\n",
    "train_dataset = dsets.MNIST(root ='./data',train = True,transform = transforms.ToTensor(),download = True)\n",
    "test_dataset = dsets.MNIST(root ='./data',train = False,transform = transforms.ToTensor())\n",
    "train_loader = torch.utils.data.DataLoader(dataset = train_dataset,batch_size = batch_size,shuffle = True)\n",
    "test_loader = torch.utils.data.DataLoader(dataset = test_dataset,batch_size = batch_size,shuffle = True)"
   ]
  },
  {
   "cell_type": "code",
   "execution_count": 5,
   "id": "1d0c5a1f",
   "metadata": {},
   "outputs": [],
   "source": [
    "class Model(nn.Module):\n",
    "    def __init__(self, in_features=784, h1=10, h2=10, out_features=10):\n",
    "        super().__init__()\n",
    "        self.fc1 = nn.Linear(in_features,h1)    # input layer\n",
    "        self.fc2 = nn.Linear(h1, h2)            # hidden layer\n",
    "        self.out = nn.Linear(h2, out_features)  # output layer\n",
    "        \n",
    "    def forward(self, x):\n",
    "        x = F.relu(self.fc1(x))\n",
    "        x = F.relu(self.fc2(x))\n",
    "        x = self.out(x)\n",
    "        return x\n",
    "model = Model()\n",
    "optimizer = torch.optim.Adam(model.parameters(), lr = learning_rate,weight_decay=0.003)\n",
    "#optimizer = torch.optim.SGD(model.parameters(), lr = learning_rate, momentum=0.9,weight_decay=0.003)\n",
    "criterion = nn.CrossEntropyLoss()"
   ]
  },
  {
   "cell_type": "code",
   "execution_count": 6,
   "id": "82ac63de",
   "metadata": {
    "scrolled": true
   },
   "outputs": [
    {
     "name": "stdout",
     "output_type": "stream",
     "text": [
      "Epoch: [ 1/ 3],  Loss: 1.5830, Accuracy:0.57\n",
      "Epoch: [ 1/ 3],  Loss: 0.7746, Accuracy:0.77\n",
      "Epoch: [ 1/ 3],  Loss: 0.6561, Accuracy:0.81\n",
      "Epoch: [ 1/ 3],  Loss: 0.4998, Accuracy:0.84\n",
      "Epoch: [ 1/ 3],  Loss: 0.4364, Accuracy:0.85\n",
      "Epoch: [ 1/ 3],  Loss: 0.5669, Accuracy:0.87\n",
      "Epoch: [ 2/ 3],  Loss: 0.4845, Accuracy:0.88\n",
      "Epoch: [ 2/ 3],  Loss: 0.3863, Accuracy:0.89\n",
      "Epoch: [ 2/ 3],  Loss: 0.4712, Accuracy:0.89\n",
      "Epoch: [ 2/ 3],  Loss: 0.5483, Accuracy:0.89\n",
      "Epoch: [ 2/ 3],  Loss: 0.3360, Accuracy:0.89\n",
      "Epoch: [ 2/ 3],  Loss: 0.3948, Accuracy:0.90\n",
      "Epoch: [ 3/ 3],  Loss: 0.2827, Accuracy:0.90\n",
      "Epoch: [ 3/ 3],  Loss: 0.3371, Accuracy:0.91\n",
      "Epoch: [ 3/ 3],  Loss: 0.2797, Accuracy:0.91\n",
      "Epoch: [ 3/ 3],  Loss: 0.2801, Accuracy:0.91\n",
      "Epoch: [ 3/ 3],  Loss: 0.2187, Accuracy:0.91\n",
      "Epoch: [ 3/ 3],  Loss: 0.3128, Accuracy:0.91\n"
     ]
    }
   ],
   "source": [
    "train_loss=[]\n",
    "test_acc=[]\n",
    "val_loss=[]\n",
    "for epoch in range(num_epochs):\n",
    "\n",
    "    for i, (images, labels) in enumerate(train_loader):\n",
    "        images = Variable(images.view(-1, 28 * 28))\n",
    "        labels = Variable(labels)\n",
    "\n",
    "        # Forward + Backward + Optimize\n",
    "        outputs = model(images)\n",
    "        loss = criterion(outputs, labels)\n",
    "        optimizer.zero_grad()\n",
    "        loss.backward()\n",
    "        optimizer.step()\n",
    "        #accuracy = 100 * correct.item() / labels.size(0)\n",
    "        if (i + 1) % 50 == 0: \n",
    "            train_loss.append(loss.item())\n",
    "            with torch.no_grad():\n",
    "                correct=0\n",
    "                total = 0\n",
    "                l=0\n",
    "                for images, labels in test_loader:\n",
    "                    images = Variable(images.view(-1, 28 * 28))\n",
    "                    outputs = model(images)\n",
    "                    l+= criterion(outputs, labels).item()\n",
    "                    for j in range(outputs.size()[0]):\n",
    "                        total+=1\n",
    "                        if (outputs[j].argmax().item() ==labels[j]): correct+=1\n",
    "            test_err=(correct / total)\n",
    "            test_acc.append(test_err)\n",
    "            val_loss.append(l/total*100)\n",
    "        if (i + 1) % 100 == 0: \n",
    "            print('Epoch: [% d/% d],  Loss: %.4f, Accuracy:%.2f' % (epoch + 1, num_epochs, loss.item(), test_err))"
   ]
  },
  {
   "cell_type": "code",
   "execution_count": 5,
   "id": "2aa51ab2",
   "metadata": {},
   "outputs": [
    {
     "name": "stdout",
     "output_type": "stream",
     "text": [
      "Accuracy of the model on 10000 test datas : 94.75 %\n"
     ]
    }
   ],
   "source": [
    "correct = 0\n",
    "total = 0\n",
    "\n",
    "mpred=[]\n",
    "mlabel=[]\n",
    "with torch.no_grad():\n",
    "    for images, labels in train_loader:\n",
    "        images = Variable(images.view(-1, 28 * 28))\n",
    "        outputs = model(images)\n",
    "        _, predicted = torch.max(outputs.data, 1)\n",
    "        mlabel.append(labels.numpy())\n",
    "        mpred.append(predicted.numpy())\n",
    "        total += labels.size(0)\n",
    "        correct += (predicted == labels).sum()\n",
    "\n",
    "print('Accuracy of the model on 10000 test datas : %.2f %%' % (100 * correct / total))"
   ]
  },
  {
   "cell_type": "code",
   "execution_count": 6,
   "id": "2b69eefd",
   "metadata": {},
   "outputs": [
    {
     "data": {
      "text/plain": [
       "Text(0.5, 1.0, 'Training Loss')"
      ]
     },
     "execution_count": 6,
     "metadata": {},
     "output_type": "execute_result"
    },
    {
     "data": {
      "image/png": "[encoded data removed]",
      "text/plain": [
       "<Figure size 432x288 with 1 Axes>"
      ]
     },
     "metadata": {
      "needs_background": "light"
     },
     "output_type": "display_data"
    }
   ],
   "source": [
    "plt.plot(train_loss)\n",
    "plt.plot(val_loss)\n",
    "plt.plot(test_acc)\n",
    "plt.legend([\"Train Loss\",\"Validation Accuracy\",\"Test Accuracy\"])\n",
    "plt.xlabel(\"Iteration\")\n",
    "plt.ylabel(\"Loss and Accuracy\")\n",
    "plt.title(\"Training Loss\")"
   ]
  },
  {
   "cell_type": "code",
   "execution_count": 7,
   "id": "c8cf80b9",
   "metadata": {},
   "outputs": [
    {
     "data": {
      "text/plain": [
       "torch.uint8"
      ]
     },
     "execution_count": 7,
     "metadata": {},
     "output_type": "execute_result"
    }
   ],
   "source": [
    "train_dataset.data.dtype"
   ]
  },
  {
   "cell_type": "code",
   "execution_count": 11,
   "id": "737a9ffd",
   "metadata": {},
   "outputs": [
    {
     "data": {
      "text/plain": [
       "torch.int64"
      ]
     },
     "execution_count": 11,
     "metadata": {},
     "output_type": "execute_result"
    }
   ],
   "source": [
    "train_dataset.targets.dtype"
   ]
  },
  {
   "cell_type": "code",
   "execution_count": null,
   "id": "3fa32b08",
   "metadata": {},
   "outputs": [],
   "source": []
  }
 ],
 "metadata": {
  "kernelspec": {
   "display_name": "Python 3",
   "language": "python",
   "name": "python3"
  },
  "language_info": {
   "codemirror_mode": {
    "name": "ipython",
    "version": 3
   },
   "file_extension": ".py",
   "mimetype": "text/x-python",
   "name": "python",
   "nbconvert_exporter": "python",
   "pygments_lexer": "ipython3",
   "version": "3.8.8"
  }
 },
 "nbformat": 4,
 "nbformat_minor": 5
}
